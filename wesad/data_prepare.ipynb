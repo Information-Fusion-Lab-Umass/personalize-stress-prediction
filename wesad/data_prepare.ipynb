{
 "cells": [
  {
   "cell_type": "code",
   "execution_count": 1,
   "id": "3f9545a1",
   "metadata": {},
   "outputs": [],
   "source": [
    "import pickle\n",
    "import matplotlib.pyplot as plt\n",
    "import numpy as np"
   ]
  },
  {
   "cell_type": "code",
   "execution_count": 36,
   "id": "8a5e4fd8",
   "metadata": {},
   "outputs": [
    {
     "name": "stdout",
     "output_type": "stream",
     "text": [
      "[600, 600, 600, 4200, 600, 210, 210, 210, 480, 480, 480, 3840, 240, 240]\n",
      "[10.0, 10.0, 10.0, 70.0, 10.0, 3.5, 3.5, 3.5, 8.0, 8.0, 8.0, 64.0, 4.0, 4.0]\n"
     ]
    }
   ],
   "source": [
    "sub = \"3\"\n",
    "lens = list()\n",
    "fq = list()\n",
    "for i in range(14):\n",
    "    with open(\"data/WESAD/x_{}_{}.pkl\".format(sub, i), 'rb') as f:\n",
    "        data = pickle.load(f)\n",
    "    lens.append(len(data.data[0]))\n",
    "    fq.append(len(data.data[0])/60)\n",
    "print(lens)\n",
    "print(fq)\n",
    "#     print(len(data.data))\n",
    "#     print(data.data[0].shape)\n",
    "#     print(\"\")\n",
    "#     plt.plot(data.data[0])\n",
    "#     plt.show()"
   ]
  },
  {
   "cell_type": "code",
   "execution_count": 30,
   "id": "81a6df88",
   "metadata": {},
   "outputs": [
    {
     "name": "stdout",
     "output_type": "stream",
     "text": [
      "71\n",
      "{1.0, 2.0, 3.0}\n",
      "\n",
      "73\n",
      "{1.0, 2.0, 3.0}\n",
      "\n",
      "72\n",
      "{1.0, 2.0, 3.0}\n",
      "\n",
      "73\n",
      "{1.0, 2.0, 3.0}\n",
      "\n",
      "73\n",
      "{1.0, 2.0, 3.0}\n",
      "\n",
      "73\n",
      "{1.0, 2.0, 3.0}\n",
      "\n",
      "74\n",
      "{1.0, 2.0, 3.0}\n",
      "\n",
      "72\n",
      "{1.0, 2.0, 3.0}\n",
      "\n",
      "75\n",
      "{1.0, 2.0, 3.0}\n",
      "\n",
      "76\n",
      "{1.0, 2.0, 3.0}\n",
      "\n",
      "75\n",
      "{1.0, 2.0, 3.0}\n",
      "\n",
      "75\n",
      "{1.0, 2.0, 3.0}\n",
      "\n",
      "75\n",
      "{1.0, 2.0, 3.0}\n",
      "\n",
      "73\n",
      "{1.0, 2.0, 3.0}\n",
      "\n",
      "75\n",
      "{1.0, 2.0, 3.0}\n",
      "\n"
     ]
    }
   ],
   "source": [
    "# sub = 8\n",
    "for sub in range(2, 18):\n",
    "    try:\n",
    "        with open(\"data/WESAD/y_{}.pkl\".format(sub), 'rb') as f:\n",
    "            label = pickle.load(f)\n",
    "    except:\n",
    "        continue\n",
    "    print(len(label))\n",
    "    print(set(label))\n",
    "    print(\"\")"
   ]
  },
  {
   "cell_type": "code",
   "execution_count": 70,
   "id": "10edb975",
   "metadata": {},
   "outputs": [
    {
     "data": {
      "image/png": "[encoded data removed]",
      "text/plain": [
       "<Figure size 640x480 with 1 Axes>"
      ]
     },
     "metadata": {},
     "output_type": "display_data"
    }
   ],
   "source": [
    "data['label']\n",
    "plt.scatter(np.arange(len(data['label'])), data['label'])\n",
    "plt.show()"
   ]
  },
  {
   "cell_type": "code",
   "execution_count": 48,
   "id": "0a91c1bf",
   "metadata": {},
   "outputs": [
    {
     "data": {
      "text/plain": [
       "dict_keys(['chest', 'wrist'])"
      ]
     },
     "execution_count": 48,
     "metadata": {},
     "output_type": "execute_result"
    }
   ],
   "source": [
    "data['signal'].keys()"
   ]
  },
  {
   "cell_type": "code",
   "execution_count": 50,
   "id": "2ed943d6",
   "metadata": {},
   "outputs": [
    {
     "data": {
      "text/plain": [
       "dict_keys(['ACC', 'ECG', 'EMG', 'EDA', 'Temp', 'Resp'])"
      ]
     },
     "execution_count": 50,
     "metadata": {},
     "output_type": "execute_result"
    }
   ],
   "source": [
    "data['signal']['chest'].keys()"
   ]
  },
  {
   "cell_type": "code",
   "execution_count": 53,
   "id": "b70bb5d3",
   "metadata": {},
   "outputs": [
    {
     "data": {
      "text/plain": [
       "(3666600, 3)"
      ]
     },
     "execution_count": 53,
     "metadata": {},
     "output_type": "execute_result"
    }
   ],
   "source": [
    "data['signal']['chest']['ACC'].shape"
   ]
  },
  {
   "cell_type": "code",
   "execution_count": 58,
   "id": "3a8bd002",
   "metadata": {},
   "outputs": [
    {
     "data": {
      "text/plain": [
       "(3666600, 1)"
      ]
     },
     "execution_count": 58,
     "metadata": {},
     "output_type": "execute_result"
    }
   ],
   "source": [
    "data['signal']['chest']['Resp'].shape"
   ]
  },
  {
   "cell_type": "code",
   "execution_count": 59,
   "id": "72084b40",
   "metadata": {},
   "outputs": [
    {
     "data": {
      "text/plain": [
       "dict_keys(['ACC', 'BVP', 'EDA', 'TEMP'])"
      ]
     },
     "execution_count": 59,
     "metadata": {},
     "output_type": "execute_result"
    }
   ],
   "source": [
    "data['signal']['wrist'].keys()"
   ]
  },
  {
   "cell_type": "code",
   "execution_count": 64,
   "id": "234f9c3d",
   "metadata": {},
   "outputs": [
    {
     "data": {
      "text/plain": [
       "(20952, 1)"
      ]
     },
     "execution_count": 64,
     "metadata": {},
     "output_type": "execute_result"
    }
   ],
   "source": [
    "data['signal']['wrist']['TEMP'].shape"
   ]
  },
  {
   "cell_type": "code",
   "execution_count": null,
   "id": "5e428616",
   "metadata": {},
   "outputs": [],
   "source": []
  }
 ],
 "metadata": {
  "kernelspec": {
   "display_name": "Python 3 (ipykernel)",
   "language": "python",
   "name": "python3"
  },
  "language_info": {
   "codemirror_mode": {
    "name": "ipython",
    "version": 3
   },
   "file_extension": ".py",
   "mimetype": "text/x-python",
   "name": "python",
   "nbconvert_exporter": "python",
   "pygments_lexer": "ipython3",
   "version": "3.9.13"
  }
 },
 "nbformat": 4,
 "nbformat_minor": 5
}
