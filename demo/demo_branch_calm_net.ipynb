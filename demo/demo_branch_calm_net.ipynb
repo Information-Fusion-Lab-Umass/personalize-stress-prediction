{
 "cells": [
  {
   "cell_type": "markdown",
   "metadata": {},
   "source": [
    "# Import package and initialize model"
   ]
  },
  {
   "cell_type": "code",
   "execution_count": 1,
   "metadata": {},
   "outputs": [
    {
     "data": {
      "text/plain": [
       "MultitaskAutoencoder(\n",
       "  (autoencoder): autoencoder(\n",
       "    (encoder): LSTM(8, 128, batch_first=True)\n",
       "    (encoder_act): ReLU()\n",
       "    (decoder): LSTM(128, 8, batch_first=True)\n",
       "    (decoder_act): Sigmoid()\n",
       "  )\n",
       "  (branching): branching(\n",
       "    (probabilities): ParameterDict(\n",
       "        (0): Parameter containing: [torch.FloatTensor of size 3]\n",
       "        (1): Parameter containing: [torch.FloatTensor of size 3]\n",
       "        (2): Parameter containing: [torch.FloatTensor of size 3]\n",
       "    )\n",
       "  )\n",
       "  (branch_layer): branch_layer(\n",
       "    (branches): ModuleDict(\n",
       "      (0): Sequential(\n",
       "        (0): Linear(in_features=132, out_features=256, bias=True)\n",
       "        (1): ReLU()\n",
       "        (2): Linear(in_features=256, out_features=128, bias=True)\n",
       "        (3): ReLU()\n",
       "      )\n",
       "      (1): Sequential(\n",
       "        (0): Linear(in_features=132, out_features=256, bias=True)\n",
       "        (1): ReLU()\n",
       "        (2): Linear(in_features=256, out_features=128, bias=True)\n",
       "        (3): ReLU()\n",
       "      )\n",
       "      (2): Sequential(\n",
       "        (0): Linear(in_features=132, out_features=256, bias=True)\n",
       "        (1): ReLU()\n",
       "        (2): Linear(in_features=256, out_features=128, bias=True)\n",
       "        (3): ReLU()\n",
       "      )\n",
       "    )\n",
       "  )\n",
       "  (out_heads): out_heads(\n",
       "    (out_heads): ModuleDict(\n",
       "      (2): Sequential(\n",
       "        (0): Linear(in_features=128, out_features=64, bias=True)\n",
       "        (1): ReLU()\n",
       "      )\n",
       "      (1): Sequential(\n",
       "        (0): Linear(in_features=128, out_features=64, bias=True)\n",
       "        (1): ReLU()\n",
       "      )\n",
       "      (0): Sequential(\n",
       "        (0): Linear(in_features=128, out_features=64, bias=True)\n",
       "        (1): ReLU()\n",
       "      )\n",
       "    )\n",
       "    (final_out): ModuleDict(\n",
       "      (2): Sequential(\n",
       "        (0): Linear(in_features=64, out_features=2, bias=True)\n",
       "      )\n",
       "      (1): Sequential(\n",
       "        (0): Linear(in_features=64, out_features=2, bias=True)\n",
       "      )\n",
       "      (0): Sequential(\n",
       "        (0): Linear(in_features=64, out_features=2, bias=True)\n",
       "      )\n",
       "    )\n",
       "  )\n",
       ")"
      ]
     },
     "execution_count": 1,
     "metadata": {},
     "output_type": "execute_result"
    }
   ],
   "source": [
    "from branch_calm_net.models import *\n",
    "\n",
    "DEVICE = torch.device('cpu')\n",
    "\n",
    "# GROUPING DECLARATION\n",
    "subject_group = { # map: ID_# -> group_id\n",
    "    \"ID_0\": '0',\n",
    "    \"ID_1\": '1',\n",
    "    \"ID_2\": '2'\n",
    "}\n",
    "\n",
    "# MODEL CONFIGURATION and TRAINING PARAMETERS\n",
    "config = {\n",
    "    'model_params': {\n",
    "        'device': DEVICE,\n",
    "        'in_size': 8,\n",
    "        'AE': 'lstm', \n",
    "        'AE_num_layers': 1,\n",
    "        'AE_hidden_size': 128,\n",
    "        'covariate_size': 4, # number of covariates\n",
    "        'shared_in_size': 128, # init bottleneck size\n",
    "        'shared_hidden_size': 256,\n",
    "        'num_branches': 3, # when equal to 1, it is equivalent to CALM_Net\n",
    "        'groups': subject_group,\n",
    "        'heads_hidden_size': 64,\n",
    "        'num_classes': 2\n",
    "    },\n",
    "    'training_params': {\n",
    "        'device': torch.device('cpu'), \n",
    "        'loss_weight': {\n",
    "            'alpha': 1e-4,\n",
    "            'beta': 1,\n",
    "            'theta': 1 / 22, # 1 over number of students\n",
    "        },\n",
    "        # 'class_weights': [0.6456, 0.5635, 1.0000],\n",
    "        'class_weights': [0.6456, 0.5635+1.0000],\n",
    "        'global_lr': 1e-5,\n",
    "        'branching_lr': 1e-5,\n",
    "        'weight_decay': 1e-4,\n",
    "        'epochs': 20, \n",
    "        'batch_size': 4,\n",
    "        'use_histogram': True,\n",
    "        'use_covariates': True, \n",
    "        'use_decoder': True,\n",
    "    }\n",
    "}\n",
    "\n",
    "# CONSTUCT MODEL\n",
    "model = MultitaskAutoencoder(config['model_params'], use_covariates=True).to(DEVICE)\n",
    "model.eval()"
   ]
  },
  {
   "cell_type": "markdown",
   "metadata": {},
   "source": [
    "# Example Input and Prediction Output"
   ]
  },
  {
   "cell_type": "code",
   "execution_count": 2,
   "metadata": {},
   "outputs": [
    {
     "name": "stdout",
     "output_type": "stream",
     "text": [
      "Input Size: torch.Size([3, 24, 8])\n",
      "Covariates Size: torch.Size([3, 4])\n",
      "Prediction Output Size: torch.Size([3, 2])\n",
      "Decoder Output Size: torch.Size([3, 24, 8])\n"
     ]
    }
   ],
   "source": [
    "# GENERATE RANDOM EXAMPLE DATA\n",
    "sample_x = torch.rand(3, 24, 8).to(DEVICE) # N, L, D\n",
    "sample_ids = ['1', '0', '2']\n",
    "sample_cov = torch.rand(3, 4).to(DEVICE) # N, E_c\n",
    "\n",
    "# FORWARD PASS\n",
    "final_out, AE_out = model(sample_x, sample_ids, covariate_data=sample_cov)\n",
    "\n",
    "# print\n",
    "print(\"Input Size:\", sample_x.shape)\n",
    "print(\"Covariates Size:\", sample_cov.shape)\n",
    "print(\"Prediction Output Size:\", final_out.shape)\n",
    "print(\"Decoder Output Size:\", AE_out.shape)"
   ]
  },
  {
   "cell_type": "markdown",
   "metadata": {},
   "source": [
    "# Train the model"
   ]
  },
  {
   "cell_type": "code",
   "execution_count": 3,
   "metadata": {},
   "outputs": [
    {
     "name": "stderr",
     "output_type": "stream",
     "text": [
      "100%|██████████| 20/20 [00:01<00:00, 19.57it/s]\n"
     ]
    },
    {
     "data": {
      "image/png": "[encoded data removed]",
      "text/plain": [
       "<Figure size 432x288 with 1 Axes>"
      ]
     },
     "metadata": {
      "needs_background": "light"
     },
     "output_type": "display_data"
    }
   ],
   "source": [
    "import numpy as np\n",
    "import matplotlib.pyplot as plt\n",
    "\n",
    "# GENERATE RANDOM EXAMPLE DATA\n",
    "sample_x = torch.rand(16, 24, 8).to(DEVICE) # N, L, D\n",
    "sample_y = torch.rand(16, 2).to(DEVICE) # N, C\n",
    "sample_ids = np.random.choice(['1', '0', '2'], 16, replace=True)\n",
    "sample_cov = torch.rand(16, 4).to(DEVICE) # N, E_c\n",
    "\n",
    "val_x = torch.rand(2, 24, 8).to(DEVICE) # N, L, D\n",
    "val_y = torch.rand(2, 2).to(DEVICE) # N, C\n",
    "val_ids = np.random.choice(['1', '0', '2'], 2, replace=True)\n",
    "val_cov = torch.rand(2, 4).to(DEVICE) # N, E_c\n",
    "\n",
    "# fit function\n",
    "train_loss, train_it, val_loss, val_it = model.fit(\n",
    "    config,\n",
    "    sample_x,\n",
    "    sample_y,\n",
    "    sample_ids,\n",
    "    sample_cov=sample_cov,\n",
    "    val_x=val_x,\n",
    "    val_y=val_y,\n",
    "    val_ids=val_ids,\n",
    "    val_cov=val_cov\n",
    ")\n",
    "\n",
    "# check function\n",
    "plt.plot(train_it, train_loss, label=\"Train Loss\")\n",
    "plt.plot(val_it, val_loss, label=\"Val Loss\")\n",
    "plt.xlabel('Iterations')\n",
    "plt.ylabel('Loss')\n",
    "plt.legend()\n",
    "plt.show()"
   ]
  }
 ],
 "metadata": {
  "kernelspec": {
   "display_name": "base",
   "language": "python",
   "name": "python3"
  },
  "language_info": {
   "codemirror_mode": {
    "name": "ipython",
    "version": 3
   },
   "file_extension": ".py",
   "mimetype": "text/x-python",
   "name": "python",
   "nbconvert_exporter": "python",
   "pygments_lexer": "ipython3",
   "version": "3.9.12"
  }
 },
 "nbformat": 4,
 "nbformat_minor": 2
}
