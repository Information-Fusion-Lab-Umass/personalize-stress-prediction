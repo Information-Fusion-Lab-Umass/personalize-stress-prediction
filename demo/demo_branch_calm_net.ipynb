{
 "cells": [
  {
   "cell_type": "markdown",
   "metadata": {},
   "source": [
    "# Import package and initialize model"
   ]
  },
  {
   "cell_type": "code",
   "execution_count": 1,
   "metadata": {},
   "outputs": [
    {
     "data": {
      "text/plain": [
       "MultitaskAutoencoder(\n",
       "  (autoencoder): autoencoder(\n",
       "    (encoder): LSTM(14, 128, batch_first=True)\n",
       "    (encoder_act): ReLU()\n",
       "    (decoder): LSTM(128, 14, batch_first=True)\n",
       "    (decoder_act): Sigmoid()\n",
       "  )\n",
       "  (branching): branching(\n",
       "    (probabilities): ParameterDict(\n",
       "        (0): Parameter containing: [torch.FloatTensor of size 5]\n",
       "        (1): Parameter containing: [torch.FloatTensor of size 5]\n",
       "        (2): Parameter containing: [torch.FloatTensor of size 5]\n",
       "    )\n",
       "  )\n",
       "  (branch_layer): branch_layer(\n",
       "    (branches): ModuleDict(\n",
       "      (0): Sequential(\n",
       "        (0): Linear(in_features=132, out_features=256, bias=True)\n",
       "        (1): ReLU()\n",
       "        (2): Linear(in_features=256, out_features=128, bias=True)\n",
       "        (3): ReLU()\n",
       "      )\n",
       "      (1): Sequential(\n",
       "        (0): Linear(in_features=132, out_features=256, bias=True)\n",
       "        (1): ReLU()\n",
       "        (2): Linear(in_features=256, out_features=128, bias=True)\n",
       "        (3): ReLU()\n",
       "      )\n",
       "      (2): Sequential(\n",
       "        (0): Linear(in_features=132, out_features=256, bias=True)\n",
       "        (1): ReLU()\n",
       "        (2): Linear(in_features=256, out_features=128, bias=True)\n",
       "        (3): ReLU()\n",
       "      )\n",
       "      (3): Sequential(\n",
       "        (0): Linear(in_features=132, out_features=256, bias=True)\n",
       "        (1): ReLU()\n",
       "        (2): Linear(in_features=256, out_features=128, bias=True)\n",
       "        (3): ReLU()\n",
       "      )\n",
       "      (4): Sequential(\n",
       "        (0): Linear(in_features=132, out_features=256, bias=True)\n",
       "        (1): ReLU()\n",
       "        (2): Linear(in_features=256, out_features=128, bias=True)\n",
       "        (3): ReLU()\n",
       "      )\n",
       "    )\n",
       "  )\n",
       "  (out_heads): out_heads(\n",
       "    (out_heads): ModuleDict(\n",
       "      (1): Sequential(\n",
       "        (0): Linear(in_features=128, out_features=64, bias=True)\n",
       "        (1): ReLU()\n",
       "      )\n",
       "      (2): Sequential(\n",
       "        (0): Linear(in_features=128, out_features=64, bias=True)\n",
       "        (1): ReLU()\n",
       "      )\n",
       "      (0): Sequential(\n",
       "        (0): Linear(in_features=128, out_features=64, bias=True)\n",
       "        (1): ReLU()\n",
       "      )\n",
       "    )\n",
       "    (final_out): ModuleDict(\n",
       "      (1): Sequential(\n",
       "        (0): Linear(in_features=64, out_features=3, bias=True)\n",
       "      )\n",
       "      (2): Sequential(\n",
       "        (0): Linear(in_features=64, out_features=3, bias=True)\n",
       "      )\n",
       "      (0): Sequential(\n",
       "        (0): Linear(in_features=64, out_features=3, bias=True)\n",
       "      )\n",
       "    )\n",
       "  )\n",
       ")"
      ]
     },
     "execution_count": 1,
     "metadata": {},
     "output_type": "execute_result"
    }
   ],
   "source": [
    "from branch_calm_net.models import *\n",
    "\n",
    "DEVICE = torch.device('cpu')\n",
    "\n",
    "# GROUPING DECLARATION\n",
    "subject_group = { # map: ID_# -> group_id\n",
    "    \"ID_0\": '0',\n",
    "    \"ID_1\": '1',\n",
    "    \"ID_2\": '2'\n",
    "}\n",
    "\n",
    "# MODEL CONFIGURATION and TRAINING PARAMETERS\n",
    "config = {\n",
    "    'model_params': {\n",
    "        'device': DEVICE,\n",
    "        'in_size': 14,\n",
    "        'AE': 'lstm', \n",
    "        'AE_num_layers': 1,\n",
    "        'AE_hidden_size': 128,\n",
    "        'covariate_size': 4, # number of covariates\n",
    "        'shared_in_size': 128, # init bottleneck size\n",
    "        'shared_hidden_size': 256,\n",
    "        'num_branches': 5, # when equal to 1, it is equivalent to CALM_Net\n",
    "        'groups': subject_group,\n",
    "        'heads_hidden_size': 64,\n",
    "        'num_classes': 3\n",
    "    },\n",
    "    'training_params': {\n",
    "        'device': DEVICE, \n",
    "        'loss_weight': {\n",
    "            'alpha': 1e-4,\n",
    "            'beta': 1,\n",
    "            'theta': 1 / 22, # 1 over number of students\n",
    "        },\n",
    "        'class_weights': [0.6456, 0.5635, 1.0000],\n",
    "        # 'class_weights': [0.6456, 0.5635+1.0000],\n",
    "        'global_lr': 1e-5,\n",
    "        'branching_lr': 1e-5,\n",
    "        'weight_decay': 1e-4,\n",
    "        'epochs': 50, \n",
    "        'batch_size': 4,\n",
    "        'use_histogram': True,\n",
    "        'use_covariates': True, \n",
    "        'use_decoder': True,\n",
    "    }\n",
    "}\n",
    "\n",
    "# CONSTUCT MODEL\n",
    "model = MultitaskAutoencoder(config['model_params'], use_covariates=True).to(DEVICE)\n",
    "model.eval()"
   ]
  },
  {
   "cell_type": "markdown",
   "metadata": {},
   "source": [
    "# Example Format of Input and Prediction Output"
   ]
  },
  {
   "cell_type": "code",
   "execution_count": 2,
   "metadata": {},
   "outputs": [
    {
     "name": "stdout",
     "output_type": "stream",
     "text": [
      "Input Size: torch.Size([3, 24, 8])\n",
      "Covariates Size: torch.Size([3, 4])\n",
      "Prediction Output Size: torch.Size([3, 3])\n",
      "Decoder Output Size: torch.Size([3, 24, 14])\n"
     ]
    }
   ],
   "source": [
    "# GENERATE RANDOM EXAMPLE DATA\n",
    "sample_x = torch.rand(3, 24, 8).to(DEVICE) # N, L, D\n",
    "sample_ids = ['1', '0', '2']\n",
    "sample_cov = torch.rand(3, 4).to(DEVICE) # N, E_c\n",
    "\n",
    "# FORWARD PASS\n",
    "final_out, AE_out = model(sample_x, sample_ids, covariate_data=sample_cov)\n",
    "\n",
    "# print\n",
    "print(\"Input Size:\", sample_x.shape)\n",
    "print(\"Covariates Size:\", sample_cov.shape)\n",
    "print(\"Prediction Output Size:\", final_out.shape)\n",
    "print(\"Decoder Output Size:\", AE_out.shape)"
   ]
  },
  {
   "cell_type": "markdown",
   "metadata": {},
   "source": [
    "# Train the model on your data"
   ]
  },
  {
   "cell_type": "code",
   "execution_count": 1,
   "metadata": {},
   "outputs": [
    {
     "name": "stderr",
     "output_type": "stream",
     "text": [
      "100%|██████████| 15/15 [00:00<00:00, 59.29it/s]\n",
      "100%|██████████| 15/15 [00:00<00:00, 495.67it/s]"
     ]
    },
    {
     "name": "stdout",
     "output_type": "stream",
     "text": [
      "\n",
      "Train X Shape: torch.Size([450, 240, 14]) (Batch_size, Sequence_length, Channels)\n",
      "Train y Shape: torch.Size([450])\n",
      "Train covariates Shape: torch.Size([450, 4]) \n",
      "\n",
      "Val X Shape: torch.Size([45, 240, 14])\n",
      "Val y Shape: torch.Size([45])\n",
      "Val covariates Shape: torch.Size([45, 4])\n"
     ]
    },
    {
     "name": "stderr",
     "output_type": "stream",
     "text": [
      "\n"
     ]
    }
   ],
   "source": [
    "from branch_calm_net.models import *\n",
    "from branch_calm_net.utils import *\n",
    "\n",
    "# basic info\n",
    "all_fns = os.listdir('samples')\n",
    "sub_ids = list(set([s.split('_')[0] for s in all_fns]))\n",
    "\n",
    "# fetch example data\n",
    "sample_x, sample_y, sample_ids, sample_cov = get_samples(sub_ids, example_idx=np.arange(10))\n",
    "val_x, val_y, val_ids_, val_cov = get_samples(sub_ids, example_idx=[-1])\n",
    "\n",
    "# logs\n",
    "print(\"\\nTrain X Shape:\", sample_x.shape, \"(Batch_size, Sequence_length, Channels)\")\n",
    "print(\"Train y Shape:\", sample_y.shape)\n",
    "print(\"Train covariates Shape:\", sample_cov.shape, '\\n')\n",
    "print(\"Val X Shape:\", val_x.shape)\n",
    "print(\"Val y Shape:\", val_y.shape)\n",
    "print(\"Val covariates Shape:\", val_cov.shape)"
   ]
  },
  {
   "cell_type": "code",
   "execution_count": 2,
   "metadata": {},
   "outputs": [
    {
     "name": "stderr",
     "output_type": "stream",
     "text": [
      "100%|██████████| 30/30 [01:16<00:00,  2.55s/it]\n"
     ]
    },
    {
     "data": {
      "image/png": "[encoded data removed]",
      "text/plain": [
       "<Figure size 432x288 with 1 Axes>"
      ]
     },
     "metadata": {
      "needs_background": "light"
     },
     "output_type": "display_data"
    }
   ],
   "source": [
    "# for demo reproducibility\n",
    "torch.manual_seed(42)\n",
    "np.random.seed(42)\n",
    "\n",
    "# construct group\n",
    "subject_group = dict() # map: ID_# -> group_id\n",
    "for i in range(len(sub_ids)):\n",
    "    subject_group[\"ID_{}\".format(sub_ids[i])] = str(i)\n",
    "\n",
    "# overwrite the configuration based on the data\n",
    "DEVICE = torch.device('cpu')\n",
    "config = get_default_config(DEVICE)\n",
    "config['model_params']['groups'] = subject_group\n",
    "config['model_params']['in_size'] = 14 # number of channels\n",
    "config['model_params']['num_branches'] = 3 # number of dynamic branches\n",
    "config['model_params']['covariate_size'] = 4 # number of covariates\n",
    "\n",
    "# training hyperparameters\n",
    "lr = 5e-3 # 1e-3\n",
    "config['training_params']['global_lr'] = lr\n",
    "config['training_params']['branching_lr'] = lr\n",
    "config['training_params']['weight_decay'] = 1e-6\n",
    "config['training_params']['epochs'] = 30 # 50\n",
    "config['training_params']['batch_size'] = 8 # 8\n",
    "\n",
    "# construct model\n",
    "model = MultitaskAutoencoder(config['model_params'], use_covariates=True).to(DEVICE)\n",
    "\n",
    "# fit function\n",
    "train_loss, train_it, val_loss, val_it = model.fit(\n",
    "    config,\n",
    "    sample_x.to(DEVICE),\n",
    "    sample_y.to(DEVICE),\n",
    "    sample_ids,\n",
    "    sample_cov=sample_cov.to(DEVICE),\n",
    "    val_x=val_x.to(DEVICE),\n",
    "    val_y=val_y.to(DEVICE),\n",
    "    val_ids=val_ids_,\n",
    "    val_cov=val_cov.to(DEVICE),\n",
    "    loss_mov_avg=True\n",
    ")\n",
    "\n",
    "# logs\n",
    "plt.plot(train_it, train_loss, label=\"Train Loss\")\n",
    "plt.plot(val_it, val_loss, label=\"Val Loss\")\n",
    "plt.xlabel('Iterations')\n",
    "plt.ylabel('Loss')\n",
    "plt.legend()\n",
    "plt.show()"
   ]
  },
  {
   "cell_type": "markdown",
   "metadata": {},
   "source": [
    "# Inspect the trained results of Branching/Grouping"
   ]
  },
  {
   "cell_type": "code",
   "execution_count": 3,
   "metadata": {},
   "outputs": [
    {
     "name": "stdout",
     "output_type": "stream",
     "text": [
      "Group 0: ['2']\n",
      "\n",
      "Group 1: ['12', '3', '5', '7', '9']\n",
      "\n",
      "Group 2: ['0', '1', '10', '11', '13', '14', '4', '6', '8']\n",
      "\n"
     ]
    }
   ],
   "source": [
    "# get branching records\n",
    "branches = model.record_branch(return_only=True)\n",
    "\n",
    "# fetch probability distribution\n",
    "groups = dict() # map: group_id -> list(subject ids)\n",
    "for id_ in branches:\n",
    "    last_prob = branches[id_][-1]\n",
    "    chosen_group = np.argmax(last_prob)\n",
    "    if groups.get(chosen_group) is None:\n",
    "        groups[chosen_group] = list()\n",
    "    groups[chosen_group].append(id_)\n",
    "\n",
    "# sort by group id\n",
    "sorted_groups_items = sorted(groups.items(), key=lambda x: int(x[0]))\n",
    "groups = dict()\n",
    "for k, v in sorted_groups_items:\n",
    "    groups[k] = v\n",
    "\n",
    "# logs\n",
    "for group_id in groups:\n",
    "    print(\"Group {}: {}\\n\".format(group_id, groups[group_id]))"
   ]
  },
  {
   "cell_type": "code",
   "execution_count": 6,
   "metadata": {},
   "outputs": [
    {
     "name": "stdout",
     "output_type": "stream",
     "text": [
      "Max: 0.3525568679517696 Min: 0.32048399128877075\n"
     ]
    },
    {
     "data": {
      "image/png": "[encoded data removed]",
      "text/plain": [
       "<Figure size 1080x360 with 2 Axes>"
      ]
     },
     "metadata": {
      "needs_background": "light"
     },
     "output_type": "display_data"
    }
   ],
   "source": [
    "check_branch_evolve(model, sub_ind=\"1\", tau=1e1, step_size=1, cmap='gnuplot')"
   ]
  },
  {
   "cell_type": "markdown",
   "metadata": {},
   "source": [
    "# Demo student stress prediction from our trained model"
   ]
  },
  {
   "cell_type": "code",
   "execution_count": 31,
   "metadata": {},
   "outputs": [
    {
     "name": "stdout",
     "output_type": "stream",
     "text": [
      "Checkpoint load success.\n",
      "Given this day of data, this student is likely to have High level of stress.\n"
     ]
    }
   ],
   "source": [
    "from branch_calm_net.models import *\n",
    "from branch_calm_net.utils import *\n",
    "\n",
    "# load model and pretrained weight\n",
    "with open('data/one_for_each.pkl', 'rb') as f:\n",
    "    student_groups = pickle.load(f)\n",
    "\n",
    "DEVICE = torch.device('cpu')\n",
    "config = get_default_config(DEVICE)\n",
    "config['model_params']['groups'] = student_groups\n",
    "config['model_params']['in_size'] = 9 # number of channels\n",
    "config['model_params']['covariate_size'] = 4 # number of covariates\n",
    "\n",
    "model = MultitaskAutoencoder(config['model_params'], use_covariates=True).to(DEVICE)\n",
    "saved_stat = torch.load('data/final_checkpoint_0.pt')\n",
    "model.load_state_dict(saved_stat)\n",
    "print(\"Checkpoint load success.\")\n",
    "# model\n",
    "\n",
    "# TODO: load one day data of a student\n",
    "with open('data/demo_8_5_1_9.pkl', 'rb') as f:\n",
    "    demo_data = pickle.load(f)\n",
    "sample_x = demo_data['histogram_data'].unsqueeze(0)\n",
    "# sample_ids = [student_groups['student_8']]\n",
    "sample_ids = ['8']\n",
    "sample_cov = demo_data['covariate_data'].unsqueeze(0)\n",
    "\n",
    "# make prediction\n",
    "final_out, _ = model(sample_x, sample_ids, covariate_data=sample_cov)\n",
    "label_to_str = {0: \"Low\", 1: \"Medium\", 2: \"High\"}\n",
    "stress_level = torch.argmax(final_out[0]).item()\n",
    "print(\"Given this day of data, this student is likely to have {} level of stress.\".format(label_to_str[stress_level]))"
   ]
  },
  {
   "cell_type": "code",
   "execution_count": null,
   "metadata": {},
   "outputs": [],
   "source": []
  }
 ],
 "metadata": {
  "kernelspec": {
   "display_name": "base",
   "language": "python",
   "name": "python3"
  },
  "language_info": {
   "codemirror_mode": {
    "name": "ipython",
    "version": 3
   },
   "file_extension": ".py",
   "mimetype": "text/x-python",
   "name": "python",
   "nbconvert_exporter": "python",
   "pygments_lexer": "ipython3",
   "version": "3.9.12"
  }
 },
 "nbformat": 4,
 "nbformat_minor": 2
}
