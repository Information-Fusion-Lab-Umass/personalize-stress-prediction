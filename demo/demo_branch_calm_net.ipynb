{
 "cells": [
  {
   "cell_type": "markdown",
   "metadata": {},
   "source": [
    "# Import package and initialize model"
   ]
  },
  {
   "cell_type": "code",
   "execution_count": 1,
   "metadata": {},
   "outputs": [
    {
     "data": {
      "text/plain": [
       "MultitaskAutoencoder(\n",
       "  (autoencoder): autoencoder(\n",
       "    (encoder): LSTM(8, 128, batch_first=True)\n",
       "    (encoder_act): ReLU()\n",
       "    (decoder): LSTM(128, 8, batch_first=True)\n",
       "    (decoder_act): Sigmoid()\n",
       "  )\n",
       "  (branching): branching(\n",
       "    (probabilities): ParameterDict(\n",
       "        (0): Parameter containing: [torch.FloatTensor of size 7]\n",
       "        (1): Parameter containing: [torch.FloatTensor of size 7]\n",
       "        (2): Parameter containing: [torch.FloatTensor of size 7]\n",
       "    )\n",
       "  )\n",
       "  (branch_layer): branch_layer(\n",
       "    (branches): ModuleDict(\n",
       "      (0): Sequential(\n",
       "        (0): Linear(in_features=132, out_features=256, bias=True)\n",
       "        (1): ReLU()\n",
       "        (2): Linear(in_features=256, out_features=128, bias=True)\n",
       "        (3): ReLU()\n",
       "      )\n",
       "      (1): Sequential(\n",
       "        (0): Linear(in_features=132, out_features=256, bias=True)\n",
       "        (1): ReLU()\n",
       "        (2): Linear(in_features=256, out_features=128, bias=True)\n",
       "        (3): ReLU()\n",
       "      )\n",
       "      (2): Sequential(\n",
       "        (0): Linear(in_features=132, out_features=256, bias=True)\n",
       "        (1): ReLU()\n",
       "        (2): Linear(in_features=256, out_features=128, bias=True)\n",
       "        (3): ReLU()\n",
       "      )\n",
       "      (3): Sequential(\n",
       "        (0): Linear(in_features=132, out_features=256, bias=True)\n",
       "        (1): ReLU()\n",
       "        (2): Linear(in_features=256, out_features=128, bias=True)\n",
       "        (3): ReLU()\n",
       "      )\n",
       "      (4): Sequential(\n",
       "        (0): Linear(in_features=132, out_features=256, bias=True)\n",
       "        (1): ReLU()\n",
       "        (2): Linear(in_features=256, out_features=128, bias=True)\n",
       "        (3): ReLU()\n",
       "      )\n",
       "      (5): Sequential(\n",
       "        (0): Linear(in_features=132, out_features=256, bias=True)\n",
       "        (1): ReLU()\n",
       "        (2): Linear(in_features=256, out_features=128, bias=True)\n",
       "        (3): ReLU()\n",
       "      )\n",
       "      (6): Sequential(\n",
       "        (0): Linear(in_features=132, out_features=256, bias=True)\n",
       "        (1): ReLU()\n",
       "        (2): Linear(in_features=256, out_features=128, bias=True)\n",
       "        (3): ReLU()\n",
       "      )\n",
       "    )\n",
       "  )\n",
       "  (out_heads): out_heads(\n",
       "    (out_heads): ModuleDict(\n",
       "      (1): Sequential(\n",
       "        (0): Linear(in_features=128, out_features=64, bias=True)\n",
       "        (1): ReLU()\n",
       "      )\n",
       "      (0): Sequential(\n",
       "        (0): Linear(in_features=128, out_features=64, bias=True)\n",
       "        (1): ReLU()\n",
       "      )\n",
       "      (2): Sequential(\n",
       "        (0): Linear(in_features=128, out_features=64, bias=True)\n",
       "        (1): ReLU()\n",
       "      )\n",
       "    )\n",
       "    (final_out): ModuleDict(\n",
       "      (1): Sequential(\n",
       "        (0): Linear(in_features=64, out_features=2, bias=True)\n",
       "      )\n",
       "      (0): Sequential(\n",
       "        (0): Linear(in_features=64, out_features=2, bias=True)\n",
       "      )\n",
       "      (2): Sequential(\n",
       "        (0): Linear(in_features=64, out_features=2, bias=True)\n",
       "      )\n",
       "    )\n",
       "  )\n",
       ")"
      ]
     },
     "execution_count": 1,
     "metadata": {},
     "output_type": "execute_result"
    }
   ],
   "source": [
    "from branch_calm_net.models import *\n",
    "\n",
    "DEVICE = torch.device('cpu')\n",
    "\n",
    "# GROUPING DECLARATION\n",
    "subject_group = { # map: ID_# -> group_id\n",
    "    \"ID_0\": '0',\n",
    "    \"ID_1\": '1',\n",
    "    \"ID_2\": '2'\n",
    "}\n",
    "\n",
    "# MODEL CONFIGURATION and TRAINING PARAMETERS\n",
    "config = {\n",
    "    'model_params': {\n",
    "        'device': DEVICE,\n",
    "        'in_size': 8,\n",
    "        'AE': 'lstm', \n",
    "        'AE_num_layers': 1,\n",
    "        'AE_hidden_size': 128,\n",
    "        'covariate_size': 4, # number of covariates\n",
    "        'shared_in_size': 128, # init bottleneck size\n",
    "        'shared_hidden_size': 256,\n",
    "        'num_branches': 7, # when equal to 1, it is equivalent to CALM_Net\n",
    "        'groups': subject_group,\n",
    "        'heads_hidden_size': 64,\n",
    "        'num_classes': 2\n",
    "    },\n",
    "    'training_params': {\n",
    "        'device': torch.device('cpu'), \n",
    "        'loss_weight': {\n",
    "            'alpha': 1e-4,\n",
    "            'beta': 1,\n",
    "            'theta': 1 / 22, # 1 over number of students\n",
    "        },\n",
    "        # 'class_weights': [0.6456, 0.5635, 1.0000],\n",
    "        'class_weights': [0.6456, 0.5635+1.0000],\n",
    "        'global_lr': 1e-5,\n",
    "        'branching_lr': 1e-5,\n",
    "        'weight_decay': 1e-4,\n",
    "        'epochs': 50, \n",
    "        'batch_size': 4,\n",
    "        'use_histogram': True,\n",
    "        'use_covariates': True, \n",
    "        'use_decoder': True,\n",
    "    }\n",
    "}\n",
    "\n",
    "# CONSTUCT MODEL\n",
    "model = MultitaskAutoencoder(config['model_params'], use_covariates=True).to(DEVICE)\n",
    "model.eval()"
   ]
  },
  {
   "cell_type": "markdown",
   "metadata": {},
   "source": [
    "# Example Input and Prediction Output"
   ]
  },
  {
   "cell_type": "code",
   "execution_count": 2,
   "metadata": {},
   "outputs": [
    {
     "name": "stdout",
     "output_type": "stream",
     "text": [
      "Input Size: torch.Size([3, 24, 8])\n",
      "Covariates Size: torch.Size([3, 4])\n",
      "Prediction Output Size: torch.Size([3, 2])\n",
      "Decoder Output Size: torch.Size([3, 24, 8])\n"
     ]
    }
   ],
   "source": [
    "# GENERATE RANDOM EXAMPLE DATA\n",
    "sample_x = torch.rand(3, 24, 8).to(DEVICE) # N, L, D\n",
    "sample_ids = ['1', '0', '2']\n",
    "sample_cov = torch.rand(3, 4).to(DEVICE) # N, E_c\n",
    "\n",
    "# FORWARD PASS\n",
    "final_out, AE_out = model(sample_x, sample_ids, covariate_data=sample_cov)\n",
    "\n",
    "# print\n",
    "print(\"Input Size:\", sample_x.shape)\n",
    "print(\"Covariates Size:\", sample_cov.shape)\n",
    "print(\"Prediction Output Size:\", final_out.shape)\n",
    "print(\"Decoder Output Size:\", AE_out.shape)"
   ]
  },
  {
   "cell_type": "markdown",
   "metadata": {},
   "source": [
    "# Train the model"
   ]
  },
  {
   "cell_type": "code",
   "execution_count": 3,
   "metadata": {},
   "outputs": [
    {
     "name": "stderr",
     "output_type": "stream",
     "text": [
      "100%|██████████| 50/50 [00:03<00:00, 16.25it/s]\n"
     ]
    },
    {
     "data": {
      "image/png": "[encoded data removed]",
      "text/plain": [
       "<Figure size 432x288 with 1 Axes>"
      ]
     },
     "metadata": {
      "needs_background": "light"
     },
     "output_type": "display_data"
    }
   ],
   "source": [
    "import numpy as np\n",
    "import matplotlib.pyplot as plt\n",
    "\n",
    "# GENERATE RANDOM EXAMPLE DATA\n",
    "sample_x = torch.rand(16, 24, 8).to(DEVICE) # N, L, D\n",
    "sample_y = torch.rand(16, 2).to(DEVICE) # N, C\n",
    "sample_ids = np.random.choice(['1', '0', '2'], 16, replace=True)\n",
    "sample_cov = torch.rand(16, 4).to(DEVICE) # N, E_c\n",
    "\n",
    "val_x = torch.rand(2, 24, 8).to(DEVICE) # N, L, D\n",
    "val_y = torch.rand(2, 2).to(DEVICE) # N, C\n",
    "val_ids = np.random.choice(['1', '0', '2'], 2, replace=True)\n",
    "val_cov = torch.rand(2, 4).to(DEVICE) # N, E_c\n",
    "\n",
    "# fit function\n",
    "train_loss, train_it, val_loss, val_it = model.fit(\n",
    "    config,\n",
    "    sample_x,\n",
    "    sample_y,\n",
    "    sample_ids,\n",
    "    sample_cov=sample_cov,\n",
    "    val_x=val_x,\n",
    "    val_y=val_y,\n",
    "    val_ids=val_ids,\n",
    "    val_cov=val_cov\n",
    ")\n",
    "\n",
    "# check function\n",
    "plt.plot(train_it, train_loss, label=\"Train Loss\")\n",
    "plt.plot(val_it, val_loss, label=\"Val Loss\")\n",
    "plt.xlabel('Iterations')\n",
    "plt.ylabel('Loss')\n",
    "plt.legend()\n",
    "plt.show()"
   ]
  },
  {
   "cell_type": "markdown",
   "metadata": {},
   "source": [
    "# Inspect the Branching/Grouping"
   ]
  },
  {
   "cell_type": "code",
   "execution_count": 11,
   "metadata": {},
   "outputs": [
    {
     "name": "stdout",
     "output_type": "stream",
     "text": [
      "Group 0: ['0']\n",
      "\n",
      "Group 1: ['2']\n",
      "\n",
      "Group 3: ['1']\n",
      "\n"
     ]
    }
   ],
   "source": [
    "# get branching records\n",
    "branches = model.record_branch(return_only=True)\n",
    "\n",
    "# fetch probability distribution\n",
    "groups = dict() # map: group_id -> list(subject ids)\n",
    "for id_ in branches:\n",
    "    last_prob = branches[id_][-1]\n",
    "    chosen_group = np.argmax(last_prob)\n",
    "    if groups.get(chosen_group) is None:\n",
    "        groups[chosen_group] = list()\n",
    "    groups[chosen_group].append(id_)\n",
    "\n",
    "# sort by group id\n",
    "sorted_groups_items = sorted(groups.items(), key=lambda x: int(x[0]))\n",
    "groups = dict()\n",
    "for k, v in sorted_groups_items:\n",
    "    groups[k] = v\n",
    "\n",
    "# logs\n",
    "for group_id in groups:\n",
    "    print(\"Group {}: {}\\n\".format(group_id, groups[group_id]))"
   ]
  },
  {
   "cell_type": "code",
   "execution_count": 4,
   "metadata": {},
   "outputs": [
    {
     "name": "stdout",
     "output_type": "stream",
     "text": [
      "Max: 0.1428815555249055 Min: 0.14284873845033383\n"
     ]
    },
    {
     "data": {
      "image/png": "[encoded data removed]",
      "text/plain": [
       "<Figure size 1080x360 with 2 Axes>"
      ]
     },
     "metadata": {
      "needs_background": "light"
     },
     "output_type": "display_data"
    }
   ],
   "source": [
    "def gumbel_softmax(mat, tau=0.1, decay=True):\n",
    "    if not decay:\n",
    "        return np.array(mat), [0 for _ in range(len(mat))]\n",
    "    ts = list()\n",
    "    res = list()\n",
    "    for i in range(len(mat)):\n",
    "        ts.append(tau)\n",
    "        v = np.exp(np.log(mat[i]) / tau)\n",
    "        res.append(v / np.sum(v))\n",
    "        tau = max(0.01, tau*0.98)\n",
    "    res = np.array(res)\n",
    "    print(\"Max:\", np.max(res), \"Min:\", np.min(res))\n",
    "    return res, ts\n",
    "\n",
    "# process\n",
    "def check_branch_evolve(model, sub_ind=\"0\", tau=0.1, decay=True, cmap='jet', step_size=3):\n",
    "    # get branching evolve parameters\n",
    "    branches = model.record_branch(return_only=True)[sub_ind]\n",
    "\n",
    "    # transform\n",
    "    mat, ts = gumbel_softmax(branches, tau=tau, decay=decay)\n",
    "    inds = [i for i in range(len(mat)) if i % step_size == 0]\n",
    "    mat = mat[inds]\n",
    "\n",
    "    # heat map\n",
    "    plt.figure(figsize = (15,5))\n",
    "    plt.imshow(mat.T, cmap=cmap)\n",
    "    tick_list = np.linspace(0, 1.0, 5)\n",
    "    cb = plt.colorbar(orientation='horizontal', aspect=50, location=\"bottom\", pad=0.4)\n",
    "    cb.ax.tick_params(labelsize=22) \n",
    "    cb.ax.set_title('Colorbar Reference')\n",
    "    cb.ax.set_xlabel('Branching Probability from 0 to 1')\n",
    "#     cb.ax.legend()\n",
    "#     cb.ax.set_yticklabels(tick_list)\n",
    "    plt.xlabel(\"Epochs\")\n",
    "    plt.ylabel(\"Branching ID\")\n",
    "    plt.show()\n",
    "\n",
    "check_branch_evolve(model, sub_ind=\"0\", tau=1e1, step_size=1, cmap='gnuplot')"
   ]
  }
 ],
 "metadata": {
  "kernelspec": {
   "display_name": "base",
   "language": "python",
   "name": "python3"
  },
  "language_info": {
   "codemirror_mode": {
    "name": "ipython",
    "version": 3
   },
   "file_extension": ".py",
   "mimetype": "text/x-python",
   "name": "python",
   "nbconvert_exporter": "python",
   "pygments_lexer": "ipython3",
   "version": "3.9.12"
  }
 },
 "nbformat": 4,
 "nbformat_minor": 2
}
